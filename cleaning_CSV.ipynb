{
 "cells": [
  {
   "cell_type": "code",
   "execution_count": 35,
   "metadata": {},
   "outputs": [
    {
     "data": {
      "text/html": [
       "<div>\n",
       "<style scoped>\n",
       "    .dataframe tbody tr th:only-of-type {\n",
       "        vertical-align: middle;\n",
       "    }\n",
       "\n",
       "    .dataframe tbody tr th {\n",
       "        vertical-align: top;\n",
       "    }\n",
       "\n",
       "    .dataframe thead th {\n",
       "        text-align: right;\n",
       "    }\n",
       "</style>\n",
       "<table border=\"1\" class=\"dataframe\">\n",
       "  <thead>\n",
       "    <tr style=\"text-align: right;\">\n",
       "      <th></th>\n",
       "      <th>ticker</th>\n",
       "      <th>name</th>\n",
       "      <th>finnhubIndustry</th>\n",
       "      <th>country</th>\n",
       "      <th>currency</th>\n",
       "      <th>exchange</th>\n",
       "      <th>ipo</th>\n",
       "      <th>marketCapitalization</th>\n",
       "      <th>marketCapClass</th>\n",
       "      <th>shareOutstanding</th>\n",
       "    </tr>\n",
       "  </thead>\n",
       "  <tbody>\n",
       "    <tr>\n",
       "      <th>0</th>\n",
       "      <td>AACG</td>\n",
       "      <td>ATA Creativity Global</td>\n",
       "      <td>Diversified Consumer Services</td>\n",
       "      <td>CN</td>\n",
       "      <td>USD</td>\n",
       "      <td>NASDAQ NMS - GLOBAL MARKET</td>\n",
       "      <td>2008-01-29</td>\n",
       "      <td>27.29185</td>\n",
       "      <td>MICRO_CAP</td>\n",
       "      <td>56.626346</td>\n",
       "    </tr>\n",
       "    <tr>\n",
       "      <th>1</th>\n",
       "      <td>AAL</td>\n",
       "      <td>American Airlines Group Inc</td>\n",
       "      <td>Airlines</td>\n",
       "      <td>US</td>\n",
       "      <td>USD</td>\n",
       "      <td>NASDAQ NMS - GLOBAL MARKET</td>\n",
       "      <td>2013-12-09</td>\n",
       "      <td>7844.693</td>\n",
       "      <td>MID_CAP</td>\n",
       "      <td>422.894501</td>\n",
       "    </tr>\n",
       "    <tr>\n",
       "      <th>2</th>\n",
       "      <td>AAME</td>\n",
       "      <td>Atlantic American Corp</td>\n",
       "      <td>Insurance</td>\n",
       "      <td>US</td>\n",
       "      <td>USD</td>\n",
       "      <td>NASDAQ NMS - GLOBAL MARKET</td>\n",
       "      <td>1980-01-16</td>\n",
       "      <td>36.78906</td>\n",
       "      <td>MICRO_CAP</td>\n",
       "      <td>20.438366</td>\n",
       "    </tr>\n",
       "    <tr>\n",
       "      <th>3</th>\n",
       "      <td>AAOI</td>\n",
       "      <td>Applied Optoelectronics Inc</td>\n",
       "      <td>Communications</td>\n",
       "      <td>US</td>\n",
       "      <td>USD</td>\n",
       "      <td>NASDAQ NMS - GLOBAL MARKET</td>\n",
       "      <td>2013-09-26</td>\n",
       "      <td>197.1919</td>\n",
       "      <td>MICRO_CAP</td>\n",
       "      <td>20.339549</td>\n",
       "    </tr>\n",
       "    <tr>\n",
       "      <th>4</th>\n",
       "      <td>AAON</td>\n",
       "      <td>Aaon Inc</td>\n",
       "      <td>Building</td>\n",
       "      <td>US</td>\n",
       "      <td>USD</td>\n",
       "      <td>NASDAQ NMS - GLOBAL MARKET</td>\n",
       "      <td>1991-01-03</td>\n",
       "      <td>2980.886</td>\n",
       "      <td>MID_CAP</td>\n",
       "      <td>52.031532</td>\n",
       "    </tr>\n",
       "  </tbody>\n",
       "</table>\n",
       "</div>"
      ],
      "text/plain": [
       "  ticker                         name                finnhubIndustry country  \\\n",
       "0   AACG        ATA Creativity Global  Diversified Consumer Services      CN   \n",
       "1    AAL  American Airlines Group Inc                       Airlines      US   \n",
       "2   AAME       Atlantic American Corp                      Insurance      US   \n",
       "3   AAOI  Applied Optoelectronics Inc                 Communications      US   \n",
       "4   AAON                     Aaon Inc                       Building      US   \n",
       "\n",
       "  currency                    exchange         ipo marketCapitalization  \\\n",
       "0      USD  NASDAQ NMS - GLOBAL MARKET  2008-01-29             27.29185   \n",
       "1      USD  NASDAQ NMS - GLOBAL MARKET  2013-12-09             7844.693   \n",
       "2      USD  NASDAQ NMS - GLOBAL MARKET  1980-01-16             36.78906   \n",
       "3      USD  NASDAQ NMS - GLOBAL MARKET  2013-09-26             197.1919   \n",
       "4      USD  NASDAQ NMS - GLOBAL MARKET  1991-01-03             2980.886   \n",
       "\n",
       "  marketCapClass shareOutstanding  \n",
       "0      MICRO_CAP        56.626346  \n",
       "1        MID_CAP       422.894501  \n",
       "2      MICRO_CAP        20.438366  \n",
       "3      MICRO_CAP        20.339549  \n",
       "4        MID_CAP        52.031532  "
      ]
     },
     "execution_count": 35,
     "metadata": {},
     "output_type": "execute_result"
    }
   ],
   "source": [
    "import pandas as pd\n",
    "import csv\n",
    "\n",
    "df = pd.read_csv('TOTAL_US_STOCK_MARKET.csv')\n",
    "# See what's in the CSV\n",
    "df.head() "
   ]
  },
  {
   "cell_type": "code",
   "execution_count": 36,
   "metadata": {},
   "outputs": [],
   "source": [
    "# Remove any entry with finnhubIndustry == NaN (i.e removes ETFs, MFs, Index Funds, etc)\n",
    "df = df.dropna()\n",
    "df = df.reset_index()"
   ]
  },
  {
   "cell_type": "code",
   "execution_count": 11,
   "metadata": {},
   "outputs": [],
   "source": [
    "# Test case, a known ETF (should NOT show 'BJK,VanEck Vectors Gaming ETF...')\n",
    "print(df.loc[[319]])"
   ]
  },
  {
   "cell_type": "code",
   "execution_count": 42,
   "metadata": {},
   "outputs": [
    {
     "name": "stdout",
     "output_type": "stream",
     "text": [
      "Empty DataFrame\n",
      "Columns: [index, ticker, name, finnhubIndustry, country, currency, exchange, ipo, marketCapitalization, marketCapClass, shareOutstanding]\n",
      "Index: []\n",
      "Empty DataFrame\n",
      "Columns: [index, ticker, name, finnhubIndustry, country, currency, exchange, ipo, marketCapitalization, marketCapClass, shareOutstanding]\n",
      "Index: []\n"
     ]
    }
   ],
   "source": [
    "# Proof there are no entries with a market-cap of 0\n",
    "print(df.loc[df['shareOutstanding'] == 0])\n",
    "print(df.loc[df['marketCapitalization'] == 0])"
   ]
  },
  {
   "cell_type": "code",
   "execution_count": 43,
   "metadata": {},
   "outputs": [],
   "source": [
    "# Export as CSV\n",
    "df.to_csv('TOTAL_US_STOCK_MARKET_CLEAN.csv')"
   ]
  },
  {
   "cell_type": "code",
   "execution_count": null,
   "metadata": {},
   "outputs": [],
   "source": []
  }
 ],
 "metadata": {
  "kernelspec": {
   "display_name": "Python 3",
   "language": "python",
   "name": "python3"
  },
  "language_info": {
   "codemirror_mode": {
    "name": "ipython",
    "version": 3
   },
   "file_extension": ".py",
   "mimetype": "text/x-python",
   "name": "python",
   "nbconvert_exporter": "python",
   "pygments_lexer": "ipython3",
   "version": "3.7.6"
  }
 },
 "nbformat": 4,
 "nbformat_minor": 4
}
